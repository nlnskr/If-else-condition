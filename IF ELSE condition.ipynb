{
 "cells": [
  {
   "cell_type": "code",
   "execution_count": 1,
   "id": "6ebdd84c",
   "metadata": {},
   "outputs": [
    {
     "name": "stdout",
     "output_type": "stream",
     "text": [
      "***welcome to SBi***\n",
      "Kindly Enter your userid and password for using banking service\n",
      "user_id : asc\n",
      "Password : 123\n",
      "user_id or Password is invalid\n",
      "Please try again.\n",
      "Thank you for banking with us.\n"
     ]
    }
   ],
   "source": [
    "print(\"***welcome to SBi***\")\n",
    "print(\"Kindly Enter your userid and password for using banking service\")\n",
    "a=input(\"user_id : \")\n",
    "b=input(\"Password : \")\n",
    "if (a==\"abc31@\")&(b==\"123@\"):\n",
    "    print(\"You can use our banking service.\")\n",
    "else:\n",
    "    print(\"user_id or Password is invalid\\nPlease try again.\")\n",
    "print(\"Thank you for banking with us.\")"
   ]
  },
  {
   "cell_type": "code",
   "execution_count": 7,
   "id": "160bda59",
   "metadata": {},
   "outputs": [
    {
     "name": "stdout",
     "output_type": "stream",
     "text": [
      "**Welcome in our Portal**\n",
      "Enter your marks : 32\n",
      "Fail !.....All the best for next time\n"
     ]
    }
   ],
   "source": [
    "print(\"**Welcome in our Portal**\")\n",
    "a=int(input(\"Enter your marks : \"))\n",
    "if (a>=33)&(a<=50):\n",
    "    print(\"Congratulation....Pass with C garde.\")\n",
    "elif (a>50)&(a<=60):\n",
    "    print(\"Congratulation....Pass with B garde.\")\n",
    "elif (a>60):\n",
    "    print(\"Congratulation....Pass with A garde.\")\n",
    "else:\n",
    "    print(\"Fail !.....All the best for next time\")"
   ]
  },
  {
   "cell_type": "code",
   "execution_count": 2,
   "id": "75a3894e",
   "metadata": {},
   "outputs": [
    {
     "name": "stdout",
     "output_type": "stream",
     "text": [
      "enter the no : 11\n",
      "11 is Odd no.\n"
     ]
    }
   ],
   "source": [
    "#prog to check even_odd no.\n",
    "a=int(input(\"enter the no : \"))\n",
    "if (a%2==0):\n",
    "    print(a,\"is Even no.\")\n",
    "else:\n",
    "    print(a,\"is Odd no.\")"
   ]
  },
  {
   "cell_type": "code",
   "execution_count": 12,
   "id": "fcb205d8",
   "metadata": {},
   "outputs": [
    {
     "name": "stdout",
     "output_type": "stream",
     "text": [
      "Enter any string : terminal\n",
      "PRESENT\n"
     ]
    }
   ],
   "source": [
    "a=str(input( \"Enter any string : \"))\n",
    "if \"t\" in (a):\n",
    "    print(\"PRESENT\")\n",
    "else:\n",
    "    print(\"NOT PRESENT\")"
   ]
  },
  {
   "cell_type": "code",
   "execution_count": 14,
   "id": "1e9d46d0",
   "metadata": {},
   "outputs": [
    {
     "name": "stdout",
     "output_type": "stream",
     "text": [
      "Enter any string : terminal\n",
      "PRESENT\n"
     ]
    }
   ],
   "source": [
    "a=str(input( \"Enter any string : \"))\n",
    "if \"t\"and\"n\"in (a):\n",
    "    print(\"PRESENT\")\n",
    "else:\n",
    "    print(\"NOT PRESENT\")"
   ]
  },
  {
   "cell_type": "code",
   "execution_count": null,
   "id": "603ee8ba",
   "metadata": {},
   "outputs": [],
   "source": []
  }
 ],
 "metadata": {
  "kernelspec": {
   "display_name": "Python 3",
   "language": "python",
   "name": "python3"
  },
  "language_info": {
   "codemirror_mode": {
    "name": "ipython",
    "version": 3
   },
   "file_extension": ".py",
   "mimetype": "text/x-python",
   "name": "python",
   "nbconvert_exporter": "python",
   "pygments_lexer": "ipython3",
   "version": "3.8.8"
  }
 },
 "nbformat": 4,
 "nbformat_minor": 5
}
